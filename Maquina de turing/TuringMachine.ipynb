{
 "cells": [
  {
   "cell_type": "markdown",
   "id": "4cd521037685a5ca",
   "metadata": {
    "collapsed": false
   },
   "source": [
    "# Turing Machine\n",
    "This notebook simulates a turing machine, reducing its basxic concepts to python structures."
   ]
  },
  {
   "cell_type": "code",
   "execution_count": 1,
   "id": "3c29fb9c4ce0565a",
   "metadata": {
    "ExecuteTime": {
     "end_time": "2024-02-18T18:22:31.212993Z",
     "start_time": "2024-02-18T18:22:31.201122Z"
    },
    "collapsed": false
   },
   "outputs": [],
   "source": [
    "import re"
   ]
  },
  {
   "cell_type": "markdown",
   "id": "b293d8f60690350a",
   "metadata": {
    "collapsed": false
   },
   "source": [
    "## Defining the turing machine and its operations"
   ]
  },
  {
   "cell_type": "code",
   "execution_count": 2,
   "id": "initial_id",
   "metadata": {
    "ExecuteTime": {
     "end_time": "2024-02-18T19:08:47.275772Z",
     "start_time": "2024-02-18T19:08:47.248037Z"
    },
    "collapsed": true
   },
   "outputs": [],
   "source": [
    "class TuringMachine:\n",
    "    def __init__(self, tape=\"\", blank_symbol=\" \"):\n",
    "        self.tape = [blank_symbol] + list(tape) + [blank_symbol]\n",
    "        self.head_position = 1\n",
    "        self.blank_symbol = blank_symbol\n",
    "        self.current_state = \"start\"\n",
    "        self.halted = False\n",
    "        self.transitions = {\n",
    "            #Add\n",
    "            (\"start\", \"1\"): (\"1\", \"R\", \"start\"),\n",
    "            (\"start\", \"+\"): (\"\", \"R\", \"Adding\"),\n",
    "            (\"Adding\", \"1\"): (\"1\", \"R\", \"Adding\"),\n",
    "            #Subtract\n",
    "            (\"start\", \"-\"): (\"\", \"R\", \"SubtractingR\"),\n",
    "            (\"SubtractingR\", \"1\"): (\"\", \"L\", \"SubtractingL\"),\n",
    "            (\"SubtractingR\", \"\") : (\"\", \"R\", \"SubtractingR\"),\n",
    "            (\"SubtractingL\", \"1\"): (\"\", \"R\", \"SubtractingR\"),\n",
    "            (\"SubtractingL\", \"\") : (\"\", \"L\", \"SubtractingL\"),\n",
    "            (\"SubtractingL\", \" \") : (\"-\", \"R\", \"AddOne\"),\n",
    "            (\"AddOne\", \"\") : (\"1\", \"R\", \"FinishedSubtracting\"),\n",
    "            # Multiplication\n",
    "            (\"start\", \"*\") : (\"*\", \"L\", \"FindStart\"),\n",
    "            (\"FindStart\", \"1\") : (\"1\", \"L\", \"FindStart\"),\n",
    "            (\"FindStart\", \" \") : (\" \", \"R\", \"MoveStart\"),\n",
    "            (\"MoveStart\", \"1\") : (\" \", \"R\", \"Find*\"),\n",
    "            (\"Find*\", \"1\") : (\"1\", \"R\", \"Find*\"),\n",
    "            (\"Find*\", \"*\") : (\"*\", \"R\", \"CreateX\"),\n",
    "            (\"CreateX\", \"1\") : (\"X\", \"R\", \"Prepare\"),\n",
    "            (\"Prepare\", \"1\") : (\"1\", \"R\", \"Prepare\"),\n",
    "            (\"Prepare\", \" \") : (\"\", \"R\", \"Duplicate\"),\n",
    "            (\"Prepare\", \"\") : (\"\", \"R\", \"Duplicate\"),\n",
    "            (\"Duplicate\", \"1\") : (\"1\", \"R\", \"Duplicate\"),\n",
    "            (\"Duplicate\", \" \") : (\"1\", \"L\", \"MoveBack\"),\n",
    "            (\"MoveBack\", \"1\") : (\"1\", \"L\", \"MoveBack\"),\n",
    "            (\"MoveBack\", \"\") : (\"\", \"L\", \"CheckX\"),\n",
    "            (\"CheckX\", \"1\") : (\"1\", \"L\", \"MoveBack\"),\n",
    "            (\"CheckX\", \"X\") : (\"1\", \"L\", \"Back*\"),\n",
    "            (\"MoveBack\", \"X\") : (\"X\", \"R\", \"CreateX\"),\n",
    "            (\"Back*\", \"X\") : (\"1\", \"L\", \"Back*\"),\n",
    "            (\"Back*\", \"*\") : (\"*\", \"L\", \"CheckStart\"),\n",
    "            (\"CheckStart\", \"1\") : (\"1\", \"L\", \"FindStart\"),\n",
    "            (\"CheckStart\", \" \") : (\" \", \"R\", \"Delete\"),\n",
    "            (\"Delete\", \"*\") : (\"\", \"R\", \"Delete\"),\n",
    "            (\"Delete\", \"1\") : (\"\", \"R\", \"Delete\"),\n",
    "            (\"Delete\", \"\") : (\"\", \"R\", \"FinishedMultiplying\"),\n",
    "            # Division\n",
    "            (\"start\", \"/\") : (\"/\", \"R\", \"CheckZero\"),\n",
    "            (\"CheckZero\", \" \") : (\" Undefined \", \"L\", \"ERROR\"),\n",
    "            (\"CheckZero\", \"1\") : (\"1\", \"R\", \"PrepareDiv\"),\n",
    "            (\"PrepareDiv\", \"1\") : (\"1\", \"R\", \"PrepareDiv\"),\n",
    "            (\"PrepareDiv\", \"X\") : (\"X\", \"R\", \"PrepareDiv\"),\n",
    "            (\"PrepareDiv\", \" \") : (\"\", \"L\", \"CreateXDiv\"),\n",
    "            (\"PrepareDiv\", \"\") : (\"\", \"L\", \"CreateXDiv\"),\n",
    "            (\"CreateXDiv\", \"X\") : (\"X\", \"L\", \"CreateXDiv\"),\n",
    "            (\"CreateXDiv\", \"1\") : (\"X\", \"L\", \"Find/\"),\n",
    "            (\"Find/\", \"1\") : (\"1\", \"L\", \"Find/\"),\n",
    "            (\"Find/\", \"/\") : (\"/\", \"L\", \"FindStartDiv\"),\n",
    "            (\"FindStartDiv\", \"1\") : (\"1\", \"L\", \"FindStartDiv\"),\n",
    "            (\"FindStartDiv\", \" \") : (\" \", \"R\", \"MoveStartDiv\"),\n",
    "            (\"MoveStartDiv\", \"1\") : (\" \", \"R\", \"FindF/\"),\n",
    "            (\"FindF/\", \"1\") : (\"1\", \"R\", \"FindF/\"),\n",
    "            (\"FindF/\", \"/\") : (\"/\", \"R\", \"CheckXDiv\"),\n",
    "            (\"CheckXDiv\", \"1\") : (\"1\", \"R\", \"PrepareDiv\"),\n",
    "            (\"CheckXDiv\", \"X\") : (\"1\", \"R\", \"AddDiv\"),\n",
    "            (\"AddDiv\", \"X\") : (\"1\", \"R\", \"AddDiv\"),\n",
    "            (\"AddDiv\", \"1\") : (\"1\", \"R\", \"AddDiv\"),\n",
    "            (\"AddDiv\", \"\") : (\"\", \"R\", \"AddDiv\"),\n",
    "            (\"AddDiv\", \" \") : (\"1\", \"L\", \"MoveBackDiv\"),\n",
    "            (\"MoveBackDiv\", \"1\") : (\"1\", \"L\", \"MoveBackDiv\"),\n",
    "            (\"MoveBackDiv\", \"\") : (\"\", \"L\", \"CreateXDiv\"),\n",
    "            (\"MoveStartDiv\", \"/\") : (\"\", \"R\", \"Delete\"),\n",
    "            (\"Delete\", \"1\") : (\"\", \"R\", \"Delete\"),\n",
    "            (\"Delete\", \"X\") : (\"\", \"R\", \"Delete\"),\n",
    "            (\"Delete\", \"\") : (\"\", \"R\", \"FinishedDividing\"),\n",
    "            # Modulus\n",
    "            (\"start\", \"%\") : (\"%\", \"R\", \"CheckZeroModulus\"),\n",
    "            (\"CheckZeroModulus\", \" \") : (\" Undefined \", \"L\", \"ERROR\"),\n",
    "            (\"CheckZeroModulus\", \"1\") : (\"1\", \"R\", \"PrepareMod\"),\n",
    "            (\"PrepareMod\", \"1\") : (\"1\", \"R\", \"PrepareMod\"),\n",
    "            (\"PrepareMod\", \"X\") : (\"X\", \"R\", \"PrepareMod\"),\n",
    "            (\"PrepareMod\", \" \") : (\"\", \"L\", \"CreateXMod\"),\n",
    "            (\"PrepareMod\", \"\") : (\"\", \"L\", \"CreateXMod\"),\n",
    "            (\"CreateXMod\", \"X\") : (\"X\", \"L\", \"CreateXMod\"),\n",
    "            (\"CreateXMod\", \"1\") : (\"X\", \"L\", \"Find%\"),\n",
    "            (\"Find%\", \"1\") : (\"1\", \"L\", \"Find%\"),\n",
    "            (\"Find%\", \"%\") : (\"%\", \"L\", \"FindStartMod\"),\n",
    "            (\"FindStartMod\", \"1\") : (\"1\", \"L\", \"FindStartMod\"),\n",
    "            (\"FindStartMod\", \" \") : (\" \", \"R\", \"MoveStartMod\"),\n",
    "            (\"MoveStartMod\", \"1\") : (\" \", \"R\", \"FindF%\"),\n",
    "            (\"FindF%\", \"1\") : (\"1\", \"R\", \"FindF%\"),\n",
    "            (\"FindF%\", \"%\") : (\"%\", \"R\", \"CheckXMod\"),\n",
    "            (\"CheckXMod\", \"1\") : (\"1\", \"R\", \"PrepareMod\"),\n",
    "            (\"CheckXMod\", \"X\") : (\"1\", \"R\", \"AddMod\"),\n",
    "            (\"AddMod\", \"X\") : (\"1\", \"R\", \"AddMod\"),\n",
    "            (\"AddMod\", \"1\") : (\"1\", \"R\", \"AddMod\"),\n",
    "            (\"AddMod\", \"\") : (\"\", \"R\", \"AddMod\"),\n",
    "            (\"AddMod\", \" \") : (\"1\", \"L\", \"MoveBackMod\"),\n",
    "            (\"MoveBackMod\", \"1\") : (\"1\", \"L\", \"MoveBackMod\"),\n",
    "            (\"MoveBackMod\", \"\") : (\"\", \"L\", \"CheckXMod\"),\n",
    "            (\"MoveStartMod\", \"%\") : (\"\", \"R\", \"FindFirstX\"),\n",
    "            (\"FindFirstX\", \"1\") : (\"\", \"R\", \"FindFirstX\"),\n",
    "            (\"FindFirstX\", \"X\") : (\"\", \"R\", \"CountMod\"),\n",
    "            (\"CountMod\", \"X\") : (\"1\", \"R\", \"CountMod\"),\n",
    "            (\"CountMod\", \"1\") : (\"\", \"R\", \"CountMod\"),\n",
    "            (\"CountMod\", \"\") : (\"\", \"R\", \"CountMod\"),\n",
    "            (\"CountMod\", \" \") : (\" \", \"R\", \"FinishedModulus\"),\n",
    "        }\n",
    "\n",
    "    \n",
    "    def step(self):\n",
    "        if self.halted:\n",
    "            raise Exception(\"Machine is halted\")\n",
    "        current_symbol = self.tape[self.head_position]\n",
    "        action = self.transitions.get((self.current_state, current_symbol))\n",
    "        if action:\n",
    "            symbol_to_write, move_direction, next_state = action\n",
    "            self.tape[self.head_position] = symbol_to_write\n",
    "            if move_direction == \"R\":\n",
    "                self.head_position += 1\n",
    "            elif move_direction == \"L\":\n",
    "                self.head_position -= 1\n",
    "            if self.head_position < 0:\n",
    "                self.head_position = 0\n",
    "                self.tape.insert(0, self.blank_symbol)\n",
    "            elif self.head_position >= len(self.tape):\n",
    "                self.tape.append(self.blank_symbol)\n",
    "            self.current_state = next_state\n",
    "        else:\n",
    "            self.halted = True\n",
    "\n",
    "    def run(self):\n",
    "        while not self.halted:\n",
    "            self.step()\n",
    "\n",
    "    def add_transition(self, state, symbol, write_symbol, direction, next_state):\n",
    "        self.transitions[(state, symbol)] = (write_symbol, direction, next_state)\n",
    "\n",
    "    def __str__(self):\n",
    "        tape_str = \"\".join(self.tape).rstrip(self.blank_symbol)\n",
    "        return f\"Tape: {tape_str}\\nHead at: {self.head_position}\\nState: {self.current_state}\"\n"
   ]
  },
  {
   "cell_type": "code",
   "execution_count": 3,
   "id": "7f76da5d6b809555",
   "metadata": {
    "ExecuteTime": {
     "end_time": "2024-02-18T19:00:36.223123Z",
     "start_time": "2024-02-18T19:00:36.217574Z"
    },
    "collapsed": false
   },
   "outputs": [],
   "source": [
    "def to_unary(n):\n",
    "    return \"1\" * n\n",
    "def from_unary(s):\n",
    "    return str(s[0]) + str(s.count(\"1\"))\n",
    "def convert_to_unary_expression(s):\n",
    "    return re.sub(r\"\\d+\", lambda m: to_unary(int(m.group(0))), s)"
   ]
  },
  {
   "cell_type": "markdown",
   "id": "c60022faa2be4b2e",
   "metadata": {
    "collapsed": false
   },
   "source": [
    "## Testing"
   ]
  },
  {
   "cell_type": "code",
   "execution_count": 5,
   "id": "c18c0cf863c7c6bc",
   "metadata": {
    "ExecuteTime": {
     "end_time": "2024-02-19T02:48:27.234680Z",
     "start_time": "2024-02-19T02:48:27.228645Z"
    },
    "collapsed": false
   },
   "outputs": [
    {
     "name": "stdout",
     "output_type": "stream",
     "text": [
      "Expression: 11*1111111111\n",
      "Tape:    11111111111111111111\n",
      "Head at: 15\n",
      "State: FinishedDividing\n",
      "Decimal Result:   20\n"
     ]
    }
   ],
   "source": [
    "expression = \"2*10\"\n",
    "print(\"Expression:\", convert_to_unary_expression(expression))\n",
    "tm = TuringMachine(convert_to_unary_expression(expression)) \n",
    "tm.run()\n",
    "print(tm)\n",
    "print(\"Decimal Result: \",from_unary(tm.tape))"
   ]
  },
  {
   "cell_type": "code",
   "execution_count": null,
   "id": "192bf7155b04fd9",
   "metadata": {
    "collapsed": false
   },
   "outputs": [],
   "source": []
  }
 ],
 "metadata": {
  "kernelspec": {
   "display_name": "Python 3",
   "language": "python",
   "name": "python3"
  },
  "language_info": {
   "codemirror_mode": {
    "name": "ipython",
    "version": 3
   },
   "file_extension": ".py",
   "mimetype": "text/x-python",
   "name": "python",
   "nbconvert_exporter": "python",
   "pygments_lexer": "ipython3",
   "version": "3.10.13"
  }
 },
 "nbformat": 4,
 "nbformat_minor": 5
}
