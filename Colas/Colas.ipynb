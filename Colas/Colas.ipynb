{
 "cells": [
  {
   "cell_type": "markdown",
   "metadata": {},
   "source": [
    "# COLAS MM1"
   ]
  },
  {
   "cell_type": "code",
   "execution_count": 15,
   "metadata": {},
   "outputs": [],
   "source": [
    "import numpy as np"
   ]
  },
  {
   "cell_type": "code",
   "execution_count": 16,
   "metadata": {},
   "outputs": [],
   "source": [
    "class Customer:\n",
    "    def __init__(self, arrival_time):\n",
    "        self.arrival_time = arrival_time\n",
    "        self.start_service_time = None\n",
    "        self.end_service_time = None\n",
    "\n",
    "    def start_service(self, start_time):\n",
    "        self.start_service_time = start_time\n",
    "\n",
    "    def end_service(self, end_time):\n",
    "        self.end_service_time = end_time\n",
    "\n",
    "    def time_in_system(self):\n",
    "        if self.end_service_time is not None:\n",
    "            return self.end_service_time - self.arrival_time\n",
    "        return None\n"
   ]
  },
  {
   "cell_type": "code",
   "execution_count": 17,
   "metadata": {},
   "outputs": [],
   "source": [
    "class Server:\n",
    "    def __init__(self):\n",
    "        self.current_customer = None\n",
    "        self.busy = False\n",
    "\n",
    "    def start_service(self, customer, current_time):\n",
    "        self.current_customer = customer\n",
    "        self.busy = True\n",
    "        self.current_customer.start_service(current_time)\n",
    "\n",
    "    def end_service(self, current_time):\n",
    "        if self.current_customer:\n",
    "            self.current_customer.end_service(current_time)\n",
    "            self.busy = False\n",
    "            finished_customer = self.current_customer\n",
    "            self.current_customer = None\n",
    "            return finished_customer\n",
    "        return None\n",
    "\n",
    "    def is_busy(self):\n",
    "        return self.busy"
   ]
  },
  {
   "cell_type": "code",
   "execution_count": 18,
   "metadata": {},
   "outputs": [],
   "source": [
    "class Simulation:\n",
    "    def __init__(self, lambda_rate, mu_rate, time_end):\n",
    "        self.lambda_rate = lambda_rate\n",
    "        self.mu_rate = mu_rate\n",
    "        self.time_end = time_end\n",
    "        self.server = Server()\n",
    "        self.customers = []\n",
    "        self.time = 0\n",
    "        self.total_time_in_system = 0\n",
    "        self.total_customers_served = 0\n",
    "        self.total_time_in_queue = 0  # Total time customers spend waiting in the queue\n",
    "        self.queue_length_time_product = 0  # To integrate queue length over time\n",
    "\n",
    "    def generate_next_arrival(self):\n",
    "        return np.random.exponential(1.0 / self.lambda_rate)\n",
    "\n",
    "    def generate_service_time(self):\n",
    "        return np.random.exponential(1.0 / self.mu_rate)\n",
    "\n",
    "    def run(self):\n",
    "        next_arrival_time = self.time + self.generate_next_arrival()\n",
    "        last_event_time = self.time  # Track time of the last event for queue length integration\n",
    "\n",
    "        while self.time < self.time_end:\n",
    "            next_event_time = next_arrival_time\n",
    "\n",
    "            if self.server.is_busy() and self.server.current_customer.end_service_time < next_arrival_time:\n",
    "                next_event_time = self.server.current_customer.end_service_time\n",
    "\n",
    "            # Update queue length time product before changing the time\n",
    "            self.queue_length_time_product += len(self.customers) * (next_event_time - last_event_time)\n",
    "            last_event_time = next_event_time\n",
    "\n",
    "            self.time = next_event_time\n",
    "\n",
    "            if self.server.is_busy() and self.time >= self.server.current_customer.end_service_time:\n",
    "                finished_customer = self.server.end_service(self.time)\n",
    "                if finished_customer:\n",
    "                    self.total_time_in_system += finished_customer.time_in_system()\n",
    "                    self.total_customers_served += 1\n",
    "                    self.total_time_in_queue += finished_customer.start_service_time - finished_customer.arrival_time\n",
    "\n",
    "            if self.time >= next_arrival_time:\n",
    "                new_customer = Customer(next_arrival_time)\n",
    "                if not self.server.is_busy():\n",
    "                    self.server.start_service(new_customer, self.time)\n",
    "                    new_customer.end_service(self.time + self.generate_service_time())\n",
    "                else:\n",
    "                    self.customers.append(new_customer)\n",
    "                next_arrival_time = self.time + self.generate_next_arrival()\n",
    "\n",
    "            if not self.server.is_busy() and len(self.customers) > 0:\n",
    "                next_customer = self.customers.pop(0)\n",
    "                self.server.start_service(next_customer, self.time)\n",
    "                next_customer.end_service(self.time + self.generate_service_time())\n",
    "\n",
    "        NS = self.total_time_in_system / self.time_end\n",
    "        TS = self.total_time_in_system / self.total_customers_served if self.total_customers_served > 0 else 0\n",
    "        NQ = self.queue_length_time_product / self.time_end\n",
    "        TQ = self.total_time_in_queue / self.total_customers_served if self.total_customers_served > 0 else 0\n",
    "\n",
    "        return NS, TS, NQ, TQ\n"
   ]
  },
  {
   "cell_type": "code",
   "execution_count": 19,
   "metadata": {},
   "outputs": [
    {
     "name": "stdout",
     "output_type": "stream",
     "text": [
      "Average number of users in the system (NS): 2.034609060333361\n",
      "Average time spent by users in the system (TS): 1.0131909748089563\n",
      "Average number of users in the queue (NQ): 1.3650680468947765\n",
      "Average time spent by users in the queue (TQ): 0.6797525004024374\n"
     ]
    }
   ],
   "source": [
    "# Adjusted simulation duration for demonstration\n",
    "lambda_rate = 2  # arrival rate per time unit\n",
    "mu_rate = 3  # service rate per time unit\n",
    "time_end = 50000  # simulation time\n",
    "\n",
    "sim = Simulation(lambda_rate, mu_rate, time_end)\n",
    "NS, TS, NQ, TQ = sim.run()\n",
    "\n",
    "print(f\"Average number of users in the system (NS): {NS}\")\n",
    "print(f\"Average time spent by users in the system (TS): {TS}\")\n",
    "print(f\"Average number of users in the queue (NQ): {NQ}\")\n",
    "print(f\"Average time spent by users in the queue (TQ): {TQ}\")\n"
   ]
  },
  {
   "cell_type": "markdown",
   "metadata": {},
   "source": [
    "# COLAS MM1K"
   ]
  },
  {
   "cell_type": "code",
   "execution_count": 20,
   "metadata": {},
   "outputs": [],
   "source": [
    "class Customer:\n",
    "    def __init__(self, arrival_time):\n",
    "        self.arrival_time = arrival_time\n",
    "        self.start_service_time = None\n",
    "        self.end_service_time = None\n",
    "\n",
    "    def start_service(self, start_time):\n",
    "        self.start_service_time = start_time\n",
    "\n",
    "    def end_service(self, end_time):\n",
    "        self.end_service_time = end_time\n",
    "\n",
    "    def time_in_system(self):\n",
    "        if self.end_service_time is not None:\n",
    "            return self.end_service_time - self.arrival_time\n",
    "        return None"
   ]
  },
  {
   "cell_type": "code",
   "execution_count": 21,
   "metadata": {},
   "outputs": [],
   "source": [
    "class Server:\n",
    "    def __init__(self):\n",
    "        self.current_customer = None\n",
    "        self.busy = False\n",
    "\n",
    "    def start_service(self, customer, current_time):\n",
    "        self.current_customer = customer\n",
    "        self.busy = True\n",
    "        self.current_customer.start_service(current_time)\n",
    "\n",
    "    def end_service(self, current_time):\n",
    "        if self.current_customer:\n",
    "            self.current_customer.end_service(current_time)\n",
    "            self.busy = False\n",
    "            finished_customer = self.current_customer\n",
    "            self.current_customer = None\n",
    "            return finished_customer\n",
    "        return None\n",
    "\n",
    "    def is_busy(self):\n",
    "        return self.busy"
   ]
  },
  {
   "cell_type": "code",
   "execution_count": 22,
   "metadata": {},
   "outputs": [],
   "source": [
    "class SimulationMM1K:\n",
    "    def __init__(self, lambda_rate, mu_rate, time_end, K):\n",
    "        self.lambda_rate = lambda_rate\n",
    "        self.mu_rate = mu_rate\n",
    "        self.time_end = time_end\n",
    "        self.K = K\n",
    "        self.server = Server()\n",
    "        self.customers = []\n",
    "        self.time = 0\n",
    "        self.total_time_in_system = 0\n",
    "        self.total_time_in_queue = 0  # Total time customers spend waiting in the queue\n",
    "        self.total_customers_served = 0\n",
    "        self.lost_customers = 0\n",
    "        self.queue_length_time_product = 0  # To integrate queue length over time\n",
    "\n",
    "    def generate_next_arrival(self):\n",
    "        return np.random.exponential(1.0 / self.lambda_rate)\n",
    "\n",
    "    def generate_service_time(self):\n",
    "        return np.random.exponential(1.0 / self.mu_rate)\n",
    "\n",
    "    def run(self):\n",
    "        next_arrival_time = self.time + self.generate_next_arrival()\n",
    "        last_event_time = self.time  # Track time of the last event for queue length integration\n",
    "\n",
    "        while self.time < self.time_end:\n",
    "            next_event_time = next_arrival_time\n",
    "\n",
    "            if self.server.is_busy() and self.server.current_customer.end_service_time < next_arrival_time:\n",
    "                next_event_time = self.server.current_customer.end_service_time\n",
    "\n",
    "            # Update queue length time product before changing the time\n",
    "            self.queue_length_time_product += len(self.customers) * (next_event_time - last_event_time)\n",
    "            last_event_time = next_event_time\n",
    "\n",
    "            self.time = next_event_time\n",
    "\n",
    "            if self.server.is_busy() and self.time >= self.server.current_customer.end_service_time:\n",
    "                finished_customer = self.server.end_service(self.time)\n",
    "                if finished_customer:\n",
    "                    self.total_time_in_system += finished_customer.time_in_system()\n",
    "                    self.total_customers_served += 1\n",
    "                    self.total_time_in_queue += finished_customer.start_service_time - finished_customer.arrival_time\n",
    "\n",
    "            if self.time >= next_arrival_time:\n",
    "                if not self.server.is_busy() or len(self.customers) < self.K - 1:\n",
    "                    new_customer = Customer(next_arrival_time)\n",
    "                    if not self.server.is_busy():\n",
    "                        self.server.start_service(new_customer, self.time)\n",
    "                        new_customer.end_service(self.time + self.generate_service_time())\n",
    "                    else:\n",
    "                        self.customers.append(new_customer)\n",
    "                else:\n",
    "                    self.lost_customers += 1\n",
    "                next_arrival_time = self.time + self.generate_next_arrival()\n",
    "\n",
    "            if not self.server.is_busy() and len(self.customers) > 0:\n",
    "                next_customer = self.customers.pop(0)\n",
    "                self.server.start_service(next_customer, self.time)\n",
    "                next_customer.end_service(self.time + self.generate_service_time())\n",
    "\n",
    "        NS = self.total_time_in_system / self.time_end\n",
    "        TS = self.total_time_in_system / self.total_customers_served if self.total_customers_served > 0 else 0\n",
    "        NQ = self.queue_length_time_product / self.time_end\n",
    "        TQ = self.total_time_in_queue / self.total_customers_served if self.total_customers_served > 0 else 0\n",
    "\n",
    "        return NS, TS, NQ, TQ, self.lost_customers\n"
   ]
  },
  {
   "cell_type": "code",
   "execution_count": 23,
   "metadata": {},
   "outputs": [
    {
     "name": "stdout",
     "output_type": "stream",
     "text": [
      "Average number of users in the system (NS): 1.4339760262824066\n",
      "Average time spent by users in the system (TS): 0.7499011757446353\n",
      "Average number of users in the queue (NQ): 0.7972919520453489\n",
      "Average time spent by users in the queue (TQ): 0.41694416606868817\n",
      "Number of lost customers: 4847\n"
     ]
    }
   ],
   "source": [
    "# Example usage\n",
    "lambda_rate = 2  # arrival rate per time unit\n",
    "mu_rate = 3  # service rate per time unit\n",
    "time_end = 50000  # simulation time\n",
    "K = 5  # System capacity including the server\n",
    "\n",
    "sim = SimulationMM1K(lambda_rate, mu_rate, time_end, K)\n",
    "NS, TS, NQ, TQ, lost_customers = sim.run()\n",
    "\n",
    "print(f\"Average number of users in the system (NS): {NS}\")\n",
    "print(f\"Average time spent by users in the system (TS): {TS}\")\n",
    "print(f\"Average number of users in the queue (NQ): {NQ}\")\n",
    "print(f\"Average time spent by users in the queue (TQ): {TQ}\")\n",
    "print(f\"Number of lost customers: {lost_customers}\")"
   ]
  },
  {
   "cell_type": "markdown",
   "metadata": {},
   "source": [
    "# Forma matematica"
   ]
  },
  {
   "cell_type": "code",
   "execution_count": 24,
   "metadata": {},
   "outputs": [
    {
     "name": "stdout",
     "output_type": "stream",
     "text": [
      "P0: 0.3654135338345865\n",
      "NS_MMK: 1.422556390977444\n",
      "TS_MMK: 0.711278195488722\n",
      "Tq_MMK: 0.37794486215538864\n",
      "Nq_MMK: 0.7558897243107773\n",
      "NS_MMI: 2.0\n",
      "TS_MMI: 1.0\n",
      "Tq_MMI: 0.6666666666666667\n",
      "Nq_MMI: 1.3333333333333335\n"
     ]
    }
   ],
   "source": [
    "# Definimos los parámetros dados\n",
    "lambda_rate = 2\n",
    "mu_rate = 3\n",
    "K = 5\n",
    "\n",
    "# Calculamos P0 usando la fórmula proporcionada\n",
    "P0 = (1 - lambda_rate/mu_rate) / (1 - (lambda_rate/mu_rate)**(K+1))\n",
    "\n",
    "# Calculamos NS para el sistema M/M/1/K/∞\n",
    "NS_MMK = lambda_rate * mu_rate * (1 - (lambda_rate/mu_rate)**K * (K*(1 - lambda_rate/mu_rate) + 1)) / (mu_rate * (mu_rate - lambda_rate) * (1 - (lambda_rate/mu_rate)**(K+1)))\n",
    "NS_MMI = lambda_rate / (mu_rate - lambda_rate)\n",
    "\n",
    "print(\"P0:\", P0)\n",
    "print(\"NS_MMK:\", NS_MMK)\n",
    "print(\"TS_MMK:\", NS_MMK / lambda_rate)\n",
    "print(\"Tq_MMK:\", NS_MMK / lambda_rate - 1 / mu_rate)\n",
    "print(\"Nq_MMK:\", (NS_MMK / lambda_rate - 1/mu_rate) * lambda_rate)\n",
    "print(\"NS_MMI:\", NS_MMI)\n",
    "print(\"TS_MMI:\", NS_MMI / lambda_rate)\n",
    "print(\"Tq_MMI:\", NS_MMI / lambda_rate - 1 / mu_rate)\n",
    "print(\"Nq_MMI:\", (NS_MMI / lambda_rate - 1/mu_rate) * lambda_rate)"
   ]
  }
 ],
 "metadata": {
  "kernelspec": {
   "display_name": "myenv",
   "language": "python",
   "name": "python3"
  },
  "language_info": {
   "codemirror_mode": {
    "name": "ipython",
    "version": 3
   },
   "file_extension": ".py",
   "mimetype": "text/x-python",
   "name": "python",
   "nbconvert_exporter": "python",
   "pygments_lexer": "ipython3",
   "version": "3.10.13"
  }
 },
 "nbformat": 4,
 "nbformat_minor": 2
}
